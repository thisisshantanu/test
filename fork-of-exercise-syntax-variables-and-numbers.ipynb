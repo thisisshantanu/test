{
 "cells": [
  {
   "cell_type": "markdown",
   "id": "7fb74947",
   "metadata": {
    "papermill": {
     "duration": 0.008912,
     "end_time": "2023-11-08T19:41:12.852322",
     "exception": false,
     "start_time": "2023-11-08T19:41:12.843410",
     "status": "completed"
    },
    "tags": []
   },
   "source": [
    "**This notebook is an exercise in the [Python](https://www.kaggle.com/learn/python) course.  You can reference the tutorial at [this link](https://www.kaggle.com/colinmorris/hello-python).**\n",
    "\n",
    "---\n"
   ]
  },
  {
   "cell_type": "markdown",
   "id": "148e9496",
   "metadata": {
    "papermill": {
     "duration": 0.008177,
     "end_time": "2023-11-08T19:41:12.868980",
     "exception": false,
     "start_time": "2023-11-08T19:41:12.860803",
     "status": "completed"
    },
    "tags": []
   },
   "source": [
    "Welcome to your first set of Python coding problems.  If this is your first time using Kaggle Notebooks, welcome! \n",
    "\n",
    "Notebooks are composed of blocks (called \"cells\") of text and code. Each of these is editable, though you'll mainly be editing the code cells to answer some questions.\n",
    "\n",
    "To get started, try running the code cell below (by pressing the ► button, or clicking on the cell and pressing ctrl+enter on your keyboard)."
   ]
  },
  {
   "cell_type": "code",
   "execution_count": 1,
   "id": "e5301afe",
   "metadata": {
    "execution": {
     "iopub.execute_input": "2023-11-08T19:41:12.888392Z",
     "iopub.status.busy": "2023-11-08T19:41:12.887537Z",
     "iopub.status.idle": "2023-11-08T19:41:12.902564Z",
     "shell.execute_reply": "2023-11-08T19:41:12.900705Z"
    },
    "papermill": {
     "duration": 0.028619,
     "end_time": "2023-11-08T19:41:12.905983",
     "exception": false,
     "start_time": "2023-11-08T19:41:12.877364",
     "status": "completed"
    },
    "tags": []
   },
   "outputs": [
    {
     "name": "stdout",
     "output_type": "stream",
     "text": [
      "You've successfully run some Python code\n",
      "Congratulations!\n",
      "2\n"
     ]
    }
   ],
   "source": [
    "print(\"You've successfully run some Python code\")\n",
    "print(\"Congratulations!\")\n",
    "new_amount = 200\n",
    "print(int(int('405')/new_amount))"
   ]
  },
  {
   "cell_type": "code",
   "execution_count": 2,
   "id": "faec06fc",
   "metadata": {
    "execution": {
     "iopub.execute_input": "2023-11-08T19:41:12.926568Z",
     "iopub.status.busy": "2023-11-08T19:41:12.926073Z",
     "iopub.status.idle": "2023-11-08T19:41:12.932054Z",
     "shell.execute_reply": "2023-11-08T19:41:12.930646Z"
    },
    "papermill": {
     "duration": 0.01915,
     "end_time": "2023-11-08T19:41:12.934587",
     "exception": false,
     "start_time": "2023-11-08T19:41:12.915437",
     "status": "completed"
    },
    "tags": []
   },
   "outputs": [],
   "source": [
    "#new code block created by hitting esc and b --> for below ans a--> for above"
   ]
  },
  {
   "cell_type": "markdown",
   "id": "8fdfda52",
   "metadata": {
    "papermill": {
     "duration": 0.008736,
     "end_time": "2023-11-08T19:41:12.951961",
     "exception": false,
     "start_time": "2023-11-08T19:41:12.943225",
     "status": "completed"
    },
    "tags": []
   },
   "source": [
    "Try adding another line of code in the cell above and re-running it. \n",
    "\n",
    "Now let's get a little fancier:  Add a new code cell by clicking on an existing code cell, hitting the escape key, and then hitting the `a` or `b` key.  The `a` key will add a cell above the current cell, and `b` adds a cell below.\n",
    "\n",
    "Great! Now you know how to use Notebooks.\n",
    "\n",
    "Each hands-on exercise starts by setting up our feedback and code checking mechanism. Run the code cell below to do that. Then you'll be ready to move on to question 0."
   ]
  },
  {
   "cell_type": "code",
   "execution_count": 3,
   "id": "4b3ff90c",
   "metadata": {
    "_kg_hide-input": true,
    "_kg_hide-output": true,
    "execution": {
     "iopub.execute_input": "2023-11-08T19:41:12.971901Z",
     "iopub.status.busy": "2023-11-08T19:41:12.971046Z",
     "iopub.status.idle": "2023-11-08T19:41:13.479236Z",
     "shell.execute_reply": "2023-11-08T19:41:13.477137Z"
    },
    "papermill": {
     "duration": 0.521681,
     "end_time": "2023-11-08T19:41:13.482414",
     "exception": false,
     "start_time": "2023-11-08T19:41:12.960733",
     "status": "completed"
    },
    "tags": []
   },
   "outputs": [
    {
     "name": "stdout",
     "output_type": "stream",
     "text": [
      "Setup complete! You're ready to start question 0.\n"
     ]
    }
   ],
   "source": [
    "from learntools.core import binder; binder.bind(globals())\n",
    "from learntools.python.ex1 import *\n",
    "print(\"Setup complete! You're ready to start question 0.\")"
   ]
  },
  {
   "cell_type": "markdown",
   "id": "609abf60",
   "metadata": {
    "papermill": {
     "duration": 0.009513,
     "end_time": "2023-11-08T19:41:13.500828",
     "exception": false,
     "start_time": "2023-11-08T19:41:13.491315",
     "status": "completed"
    },
    "tags": []
   },
   "source": [
    "# 0.\n",
    "\n",
    "*This is a silly question intended as an introduction to the format we use for hands-on exercises throughout all Kaggle courses.*\n",
    "\n",
    "**What is your favorite color? **\n",
    "\n",
    "To complete this question, create a variable called `color` in the cell below with an appropriate value. The function call `q0.check()` (which we've already provided in the cell below) will check your answer."
   ]
  },
  {
   "cell_type": "code",
   "execution_count": 4,
   "id": "85140b1b",
   "metadata": {
    "execution": {
     "iopub.execute_input": "2023-11-08T19:41:13.520683Z",
     "iopub.status.busy": "2023-11-08T19:41:13.519718Z",
     "iopub.status.idle": "2023-11-08T19:41:13.543165Z",
     "shell.execute_reply": "2023-11-08T19:41:13.541761Z"
    },
    "papermill": {
     "duration": 0.036935,
     "end_time": "2023-11-08T19:41:13.546471",
     "exception": false,
     "start_time": "2023-11-08T19:41:13.509536",
     "status": "completed"
    },
    "tags": []
   },
   "outputs": [
    {
     "data": {
      "application/javascript": [
       "parent.postMessage({\"jupyterEvent\": \"custom.exercise_interaction\", \"data\": {\"outcomeType\": 2, \"failureMessage\": \"\", \"interactionType\": 1, \"questionType\": 2, \"questionId\": \"0_ExerciseFormatTutorial\", \"learnToolsVersion\": \"0.3.4\", \"valueTowardsCompletion\": 0.0, \"exceptionClass\": \"\", \"trace\": \"\"}}, \"*\")"
      ],
      "text/plain": [
       "<IPython.core.display.Javascript object>"
      ]
     },
     "metadata": {},
     "output_type": "display_data"
    },
    {
     "data": {
      "text/markdown": [
       "<span style=\"color:#cc3333\">Incorrect</span>"
      ],
      "text/plain": [
       "Incorrect"
      ]
     },
     "metadata": {},
     "output_type": "display_data"
    },
    {
     "data": {
      "application/javascript": [
       "parent.postMessage({\"jupyterEvent\": \"custom.exercise_interaction\", \"data\": {\"outcomeType\": 2, \"failureMessage\": \"\", \"interactionType\": 1, \"questionType\": 2, \"questionId\": \"0_ExerciseFormatTutorial\", \"learnToolsVersion\": \"0.3.4\", \"valueTowardsCompletion\": 0.0, \"exceptionClass\": \"\", \"trace\": \"\"}}, \"*\")"
      ],
      "text/plain": [
       "<IPython.core.display.Javascript object>"
      ]
     },
     "metadata": {},
     "output_type": "display_data"
    },
    {
     "data": {
      "text/markdown": [
       "<span style=\"color:#cc3333\">Incorrect</span>"
      ],
      "text/plain": [
       "Incorrect"
      ]
     },
     "metadata": {},
     "output_type": "display_data"
    },
    {
     "data": {
      "application/javascript": [
       "parent.postMessage({\"jupyterEvent\": \"custom.exercise_interaction\", \"data\": {\"outcomeType\": 1, \"valueTowardsCompletion\": 0.25, \"interactionType\": 1, \"questionType\": 2, \"questionId\": \"0_ExerciseFormatTutorial\", \"learnToolsVersion\": \"0.3.4\", \"failureMessage\": \"\", \"exceptionClass\": \"\", \"trace\": \"\"}}, \"*\")"
      ],
      "text/plain": [
       "<IPython.core.display.Javascript object>"
      ]
     },
     "metadata": {},
     "output_type": "display_data"
    },
    {
     "data": {
      "text/markdown": [
       "<span style=\"color:#33cc33\">Correct:</span> What?! You got it right without needing a hint or anything? Drats. Well hey, you should still continue to the next step to get some practice asking for a hint and checking solutions. (Even though you obviously don't need any help here.)"
      ],
      "text/plain": [
       "Correct: What?! You got it right without needing a hint or anything? Drats. Well hey, you should still continue to the next step to get some practice asking for a hint and checking solutions. (Even though you obviously don't need any help here.)"
      ]
     },
     "metadata": {},
     "output_type": "display_data"
    }
   ],
   "source": [
    "# create a variable called color with an appropriate value on the line below\n",
    "# (Remember, strings in Python must be enclosed in 'single' or \"double\" quotes)\n",
    "____\n",
    "color = \"orange\"\n",
    "# Check your answer\n",
    "q0.check()\n",
    "color = \"magenta\"\n",
    "q0.check()\n",
    "color='blue'\n",
    "q0.check()"
   ]
  },
  {
   "cell_type": "markdown",
   "id": "c8576772",
   "metadata": {
    "papermill": {
     "duration": 0.011361,
     "end_time": "2023-11-08T19:41:13.568769",
     "exception": false,
     "start_time": "2023-11-08T19:41:13.557408",
     "status": "completed"
    },
    "tags": []
   },
   "source": [
    "Didn't get the right answer? How do you not even know your own favorite color?!\n",
    "\n",
    "Delete the `#` in the line below to make one of the lines run. You can choose between getting a hint or the full answer by choosing which line to remove the `#` from. \n",
    "\n",
    "Removing the `#` is called uncommenting, because it changes that line from a \"comment\" which Python doesn't run to code, which Python does run."
   ]
  },
  {
   "cell_type": "code",
   "execution_count": 5,
   "id": "39f93e18",
   "metadata": {
    "execution": {
     "iopub.execute_input": "2023-11-08T19:41:13.593961Z",
     "iopub.status.busy": "2023-11-08T19:41:13.593578Z",
     "iopub.status.idle": "2023-11-08T19:41:13.602671Z",
     "shell.execute_reply": "2023-11-08T19:41:13.601699Z"
    },
    "papermill": {
     "duration": 0.025023,
     "end_time": "2023-11-08T19:41:13.604880",
     "exception": false,
     "start_time": "2023-11-08T19:41:13.579857",
     "status": "completed"
    },
    "tags": []
   },
   "outputs": [
    {
     "data": {
      "application/javascript": [
       "parent.postMessage({\"jupyterEvent\": \"custom.exercise_interaction\", \"data\": {\"interactionType\": 2, \"questionType\": 2, \"questionId\": \"0_ExerciseFormatTutorial\", \"learnToolsVersion\": \"0.3.4\", \"valueTowardsCompletion\": 0.0, \"failureMessage\": \"\", \"exceptionClass\": \"\", \"trace\": \"\", \"outcomeType\": 4}}, \"*\")"
      ],
      "text/plain": [
       "<IPython.core.display.Javascript object>"
      ]
     },
     "metadata": {},
     "output_type": "display_data"
    },
    {
     "data": {
      "text/markdown": [
       "<span style=\"color:#3366cc\">Hint:</span> Your favorite color rhymes with *glue*."
      ],
      "text/plain": [
       "Hint: Your favorite color rhymes with *glue*."
      ]
     },
     "metadata": {},
     "output_type": "display_data"
    }
   ],
   "source": [
    "q0.hint()\n",
    "#q0.solution()"
   ]
  },
  {
   "cell_type": "markdown",
   "id": "d03b2ded",
   "metadata": {
    "papermill": {
     "duration": 0.00986,
     "end_time": "2023-11-08T19:41:13.625313",
     "exception": false,
     "start_time": "2023-11-08T19:41:13.615453",
     "status": "completed"
    },
    "tags": []
   },
   "source": [
    "The upcoming questions work the same way. The only thing that will change are the question numbers. For the next question, you'll call `q1.check()`, `q1.hint()`, `q1.solution()`, for question 2, you'll call `q2.check()`, and so on."
   ]
  },
  {
   "cell_type": "markdown",
   "id": "6bb835dc",
   "metadata": {
    "papermill": {
     "duration": 0.010032,
     "end_time": "2023-11-08T19:41:13.646455",
     "exception": false,
     "start_time": "2023-11-08T19:41:13.636423",
     "status": "completed"
    },
    "tags": []
   },
   "source": [
    "<hr/>\n",
    "\n",
    "# 1.\n",
    "\n",
    "Complete the code below. In case it's helpful, here is the table of available arithmetic operations:\n",
    "\n",
    "\n",
    "\n",
    "| Operator     | Name           | Description                                            |\n",
    "|--------------|----------------|--------------------------------------------------------|\n",
    "| ``a + b``    | Addition       | Sum of ``a`` and ``b``                                 |\n",
    "| ``a - b``    | Subtraction    | Difference of ``a`` and ``b``                          |\n",
    "| ``a * b``    | Multiplication | Product of ``a`` and ``b``                             |\n",
    "| ``a / b``    | True division  | Quotient of ``a`` and ``b``                            |\n",
    "| ``a // b``   | Floor division | Quotient of ``a`` and ``b``, removing fractional parts |\n",
    "| ``a % b``    | Modulus        | Integer remainder after division of ``a`` by ``b``     |\n",
    "| ``a ** b``   | Exponentiation | ``a`` raised to the power of ``b``                     |\n",
    "| ``-a``       | Negation       | The negative of ``a``                                  |\n",
    "\n",
    "<span style=\"display:none\"></span>\n"
   ]
  },
  {
   "cell_type": "code",
   "execution_count": 6,
   "id": "45f3d3d3",
   "metadata": {
    "execution": {
     "iopub.execute_input": "2023-11-08T19:41:13.669990Z",
     "iopub.status.busy": "2023-11-08T19:41:13.668906Z",
     "iopub.status.idle": "2023-11-08T19:41:13.679298Z",
     "shell.execute_reply": "2023-11-08T19:41:13.677784Z"
    },
    "papermill": {
     "duration": 0.025948,
     "end_time": "2023-11-08T19:41:13.682420",
     "exception": false,
     "start_time": "2023-11-08T19:41:13.656472",
     "status": "completed"
    },
    "tags": []
   },
   "outputs": [
    {
     "data": {
      "application/javascript": [
       "parent.postMessage({\"jupyterEvent\": \"custom.exercise_interaction\", \"data\": {\"outcomeType\": 4, \"interactionType\": 1, \"questionType\": 1, \"questionId\": \"1_CircleArea\", \"learnToolsVersion\": \"0.3.4\", \"valueTowardsCompletion\": 0.0, \"failureMessage\": \"\", \"exceptionClass\": \"\", \"trace\": \"\"}}, \"*\")"
      ],
      "text/plain": [
       "<IPython.core.display.Javascript object>"
      ]
     },
     "metadata": {},
     "output_type": "display_data"
    },
    {
     "data": {
      "text/markdown": [
       "<span style=\"color:#ccaa33\">Check:</span> When you've updated the starter code, `check()` will tell you whether your code is correct. Remember, you must create the following variables: `radius`, `area`"
      ],
      "text/plain": [
       "Check: When you've updated the starter code, `check()` will tell you whether your code is correct. Remember, you must create the following variables: `radius`, `area`"
      ]
     },
     "metadata": {},
     "output_type": "display_data"
    }
   ],
   "source": [
    "pi = 3.14159 # approximate\n",
    "diameter = 3\n",
    "\n",
    "# Create a variable called 'radius' equal to half the diameter\n",
    "____\n",
    "\n",
    "# Create a variable called 'area', using the formula for the area of a circle: pi times the radius squared\n",
    "____\n",
    "\n",
    "# Check your answer\n",
    "q1.check()"
   ]
  },
  {
   "cell_type": "code",
   "execution_count": 7,
   "id": "c135e128",
   "metadata": {
    "execution": {
     "iopub.execute_input": "2023-11-08T19:41:13.707232Z",
     "iopub.status.busy": "2023-11-08T19:41:13.706626Z",
     "iopub.status.idle": "2023-11-08T19:41:13.713139Z",
     "shell.execute_reply": "2023-11-08T19:41:13.711284Z"
    },
    "papermill": {
     "duration": 0.021936,
     "end_time": "2023-11-08T19:41:13.716040",
     "exception": false,
     "start_time": "2023-11-08T19:41:13.694104",
     "status": "completed"
    },
    "tags": []
   },
   "outputs": [],
   "source": [
    "# Uncomment and run the lines below if you need help.\n",
    "#q1.hint()\n",
    "#q1.solution()"
   ]
  },
  {
   "cell_type": "markdown",
   "id": "61e36412",
   "metadata": {
    "papermill": {
     "duration": 0.01058,
     "end_time": "2023-11-08T19:41:13.738006",
     "exception": false,
     "start_time": "2023-11-08T19:41:13.727426",
     "status": "completed"
    },
    "tags": []
   },
   "source": [
    "<hr/>\n",
    "\n",
    "# 2.\n",
    "\n",
    "Add code to the following cell to swap variables `a` and `b` (so that `a` refers to the object previously referred to by `b` and vice versa)."
   ]
  },
  {
   "cell_type": "code",
   "execution_count": 8,
   "id": "be0fb173",
   "metadata": {
    "execution": {
     "iopub.execute_input": "2023-11-08T19:41:13.761828Z",
     "iopub.status.busy": "2023-11-08T19:41:13.761393Z",
     "iopub.status.idle": "2023-11-08T19:41:13.773403Z",
     "shell.execute_reply": "2023-11-08T19:41:13.772187Z"
    },
    "papermill": {
     "duration": 0.027873,
     "end_time": "2023-11-08T19:41:13.776440",
     "exception": false,
     "start_time": "2023-11-08T19:41:13.748567",
     "status": "completed"
    },
    "tags": []
   },
   "outputs": [
    {
     "data": {
      "application/javascript": [
       "parent.postMessage({\"jupyterEvent\": \"custom.exercise_interaction\", \"data\": {\"outcomeType\": 2, \"failureMessage\": \"`a` and `b` still have their original values.\", \"interactionType\": 1, \"questionType\": 2, \"questionId\": \"2_VariableSwap\", \"learnToolsVersion\": \"0.3.4\", \"valueTowardsCompletion\": 0.0, \"exceptionClass\": \"\", \"trace\": \"\"}}, \"*\")"
      ],
      "text/plain": [
       "<IPython.core.display.Javascript object>"
      ]
     },
     "metadata": {},
     "output_type": "display_data"
    },
    {
     "data": {
      "text/markdown": [
       "<span style=\"color:#cc3333\">Incorrect:</span> `a` and `b` still have their original values."
      ],
      "text/plain": [
       "Incorrect: `a` and `b` still have their original values."
      ]
     },
     "metadata": {},
     "output_type": "display_data"
    }
   ],
   "source": [
    "########### Setup code - don't touch this part ######################\n",
    "# If you're curious, these are examples of lists. We'll talk about \n",
    "# them in depth a few lessons from now. For now, just know that they're\n",
    "# yet another type of Python object, like int or float.\n",
    "a = [1, 2, 3]\n",
    "b = [3, 2, 1]\n",
    "q2.store_original_ids()\n",
    "######################################################################\n",
    "\n",
    "# Your code goes here. Swap the values to which a and b refer.\n",
    "# If you get stuck, you can always uncomment one or both of the lines in\n",
    "# the next cell for a hint, or to peek at the solution.\n",
    "\n",
    "######################################################################\n",
    "\n",
    "# Check your answer\n",
    "q2.check()"
   ]
  },
  {
   "cell_type": "code",
   "execution_count": 9,
   "id": "ab89dcec",
   "metadata": {
    "execution": {
     "iopub.execute_input": "2023-11-08T19:41:13.803378Z",
     "iopub.status.busy": "2023-11-08T19:41:13.802837Z",
     "iopub.status.idle": "2023-11-08T19:41:13.809744Z",
     "shell.execute_reply": "2023-11-08T19:41:13.807860Z"
    },
    "papermill": {
     "duration": 0.024293,
     "end_time": "2023-11-08T19:41:13.813273",
     "exception": false,
     "start_time": "2023-11-08T19:41:13.788980",
     "status": "completed"
    },
    "tags": []
   },
   "outputs": [],
   "source": [
    "#q2.hint()"
   ]
  },
  {
   "cell_type": "code",
   "execution_count": 10,
   "id": "c7e40ec2",
   "metadata": {
    "execution": {
     "iopub.execute_input": "2023-11-08T19:41:13.842528Z",
     "iopub.status.busy": "2023-11-08T19:41:13.842000Z",
     "iopub.status.idle": "2023-11-08T19:41:13.848525Z",
     "shell.execute_reply": "2023-11-08T19:41:13.846637Z"
    },
    "papermill": {
     "duration": 0.025466,
     "end_time": "2023-11-08T19:41:13.851654",
     "exception": false,
     "start_time": "2023-11-08T19:41:13.826188",
     "status": "completed"
    },
    "tags": []
   },
   "outputs": [],
   "source": [
    "#q2.solution()"
   ]
  },
  {
   "cell_type": "markdown",
   "id": "a939f965",
   "metadata": {
    "papermill": {
     "duration": 0.011518,
     "end_time": "2023-11-08T19:41:13.874472",
     "exception": false,
     "start_time": "2023-11-08T19:41:13.862954",
     "status": "completed"
    },
    "tags": []
   },
   "source": [
    "<hr/>\n",
    "\n",
    "# 3a.\n",
    "\n",
    "Add parentheses to the following expression so that it evaluates to 1."
   ]
  },
  {
   "cell_type": "code",
   "execution_count": 11,
   "id": "8b04401d",
   "metadata": {
    "execution": {
     "iopub.execute_input": "2023-11-08T19:41:13.902380Z",
     "iopub.status.busy": "2023-11-08T19:41:13.901962Z",
     "iopub.status.idle": "2023-11-08T19:41:13.911176Z",
     "shell.execute_reply": "2023-11-08T19:41:13.909857Z"
    },
    "papermill": {
     "duration": 0.026154,
     "end_time": "2023-11-08T19:41:13.913816",
     "exception": false,
     "start_time": "2023-11-08T19:41:13.887662",
     "status": "completed"
    },
    "tags": []
   },
   "outputs": [
    {
     "data": {
      "text/plain": [
       "4"
      ]
     },
     "execution_count": 11,
     "metadata": {},
     "output_type": "execute_result"
    }
   ],
   "source": [
    "5 - 3 // 2"
   ]
  },
  {
   "cell_type": "code",
   "execution_count": 12,
   "id": "635aba76",
   "metadata": {
    "execution": {
     "iopub.execute_input": "2023-11-08T19:41:13.941341Z",
     "iopub.status.busy": "2023-11-08T19:41:13.940859Z",
     "iopub.status.idle": "2023-11-08T19:41:13.946012Z",
     "shell.execute_reply": "2023-11-08T19:41:13.944721Z"
    },
    "papermill": {
     "duration": 0.021638,
     "end_time": "2023-11-08T19:41:13.948577",
     "exception": false,
     "start_time": "2023-11-08T19:41:13.926939",
     "status": "completed"
    },
    "tags": []
   },
   "outputs": [],
   "source": [
    "#q3.a.hint()"
   ]
  },
  {
   "cell_type": "code",
   "execution_count": 13,
   "id": "39d4a3c6",
   "metadata": {
    "execution": {
     "iopub.execute_input": "2023-11-08T19:41:13.974541Z",
     "iopub.status.busy": "2023-11-08T19:41:13.974143Z",
     "iopub.status.idle": "2023-11-08T19:41:13.983467Z",
     "shell.execute_reply": "2023-11-08T19:41:13.982293Z"
    },
    "papermill": {
     "duration": 0.02518,
     "end_time": "2023-11-08T19:41:13.985738",
     "exception": false,
     "start_time": "2023-11-08T19:41:13.960558",
     "status": "completed"
    },
    "tags": []
   },
   "outputs": [
    {
     "data": {
      "application/javascript": [
       "parent.postMessage({\"jupyterEvent\": \"custom.exercise_interaction\", \"data\": {\"interactionType\": 3, \"questionType\": 4, \"questionId\": \"3.1_ArithmeticParensEasy\", \"learnToolsVersion\": \"0.3.4\", \"valueTowardsCompletion\": 0.0, \"failureMessage\": \"\", \"exceptionClass\": \"\", \"trace\": \"\", \"outcomeType\": 4}}, \"*\")"
      ],
      "text/plain": [
       "<IPython.core.display.Javascript object>"
      ]
     },
     "metadata": {},
     "output_type": "display_data"
    },
    {
     "data": {
      "text/markdown": [
       "<span style=\"color:#33cc99\">Solution:</span> \n",
       "```python\n",
       "(5 - 3) // 2\n",
       "```"
      ],
      "text/plain": [
       "Solution: \n",
       "```python\n",
       "(5 - 3) // 2\n",
       "```"
      ]
     },
     "metadata": {},
     "output_type": "display_data"
    }
   ],
   "source": [
    "# Check your answer (Run this code cell to receive credit!)\n",
    "q3.a.solution()"
   ]
  },
  {
   "cell_type": "markdown",
   "id": "e2bac080",
   "metadata": {
    "papermill": {
     "duration": 0.011199,
     "end_time": "2023-11-08T19:41:14.008602",
     "exception": false,
     "start_time": "2023-11-08T19:41:13.997403",
     "status": "completed"
    },
    "tags": []
   },
   "source": [
    "# 3b.  <span title=\"A bit spicy\" style=\"color: darkgreen \">🌶️</span>\n",
    "\n",
    "<small>Questions, like this one, marked a spicy pepper are a bit harder.</small>\n",
    "\n",
    "Add parentheses to the following expression so that it evaluates to 0."
   ]
  },
  {
   "cell_type": "code",
   "execution_count": 14,
   "id": "7510d8de",
   "metadata": {
    "execution": {
     "iopub.execute_input": "2023-11-08T19:41:14.035894Z",
     "iopub.status.busy": "2023-11-08T19:41:14.035519Z",
     "iopub.status.idle": "2023-11-08T19:41:14.043101Z",
     "shell.execute_reply": "2023-11-08T19:41:14.041681Z"
    },
    "papermill": {
     "duration": 0.0267,
     "end_time": "2023-11-08T19:41:14.046917",
     "exception": false,
     "start_time": "2023-11-08T19:41:14.020217",
     "status": "completed"
    },
    "tags": []
   },
   "outputs": [
    {
     "data": {
      "text/plain": [
       "2"
      ]
     },
     "execution_count": 14,
     "metadata": {},
     "output_type": "execute_result"
    }
   ],
   "source": [
    "8 - 3 * 2 - 1 + 1"
   ]
  },
  {
   "cell_type": "code",
   "execution_count": 15,
   "id": "e33230c7",
   "metadata": {
    "execution": {
     "iopub.execute_input": "2023-11-08T19:41:14.073629Z",
     "iopub.status.busy": "2023-11-08T19:41:14.072813Z",
     "iopub.status.idle": "2023-11-08T19:41:14.078230Z",
     "shell.execute_reply": "2023-11-08T19:41:14.077040Z"
    },
    "papermill": {
     "duration": 0.022079,
     "end_time": "2023-11-08T19:41:14.081209",
     "exception": false,
     "start_time": "2023-11-08T19:41:14.059130",
     "status": "completed"
    },
    "tags": []
   },
   "outputs": [],
   "source": [
    "#q3.b.hint()"
   ]
  },
  {
   "cell_type": "code",
   "execution_count": 16,
   "id": "5b8ef159",
   "metadata": {
    "execution": {
     "iopub.execute_input": "2023-11-08T19:41:14.107953Z",
     "iopub.status.busy": "2023-11-08T19:41:14.107504Z",
     "iopub.status.idle": "2023-11-08T19:41:14.119808Z",
     "shell.execute_reply": "2023-11-08T19:41:14.117899Z"
    },
    "papermill": {
     "duration": 0.029587,
     "end_time": "2023-11-08T19:41:14.123053",
     "exception": false,
     "start_time": "2023-11-08T19:41:14.093466",
     "status": "completed"
    },
    "tags": []
   },
   "outputs": [
    {
     "data": {
      "application/javascript": [
       "parent.postMessage({\"jupyterEvent\": \"custom.exercise_interaction\", \"data\": {\"interactionType\": 3, \"questionType\": 4, \"questionId\": \"3.2_ArithmeticParensHard\", \"learnToolsVersion\": \"0.3.4\", \"valueTowardsCompletion\": 0.0, \"failureMessage\": \"\", \"exceptionClass\": \"\", \"trace\": \"\", \"outcomeType\": 4}}, \"*\")"
      ],
      "text/plain": [
       "<IPython.core.display.Javascript object>"
      ]
     },
     "metadata": {},
     "output_type": "display_data"
    },
    {
     "data": {
      "text/markdown": [
       "<span style=\"color:#33cc99\">Solution:</span> `(8 - 3) * (2 - (1 + 1))` is one solution. There may be others."
      ],
      "text/plain": [
       "Solution: `(8 - 3) * (2 - (1 + 1))` is one solution. There may be others."
      ]
     },
     "metadata": {},
     "output_type": "display_data"
    }
   ],
   "source": [
    "# Check your answer (Run this code cell to receive credit!)\n",
    "q3.b.solution()"
   ]
  },
  {
   "cell_type": "markdown",
   "id": "1ea5feac",
   "metadata": {
    "papermill": {
     "duration": 0.012782,
     "end_time": "2023-11-08T19:41:14.148878",
     "exception": false,
     "start_time": "2023-11-08T19:41:14.136096",
     "status": "completed"
    },
    "tags": []
   },
   "source": [
    "<hr/>\n",
    "\n",
    "# 4. \n",
    "Alice, Bob and Carol have agreed to pool their Halloween candy and split it evenly among themselves.\n",
    "For the sake of their friendship, any candies left over will be smashed. For example, if they collectively\n",
    "bring home 91 candies, they'll take 30 each and smash 1.\n",
    "\n",
    "Write an arithmetic expression below to calculate how many candies they must smash for a given haul."
   ]
  },
  {
   "cell_type": "code",
   "execution_count": 17,
   "id": "9c53e9ae",
   "metadata": {
    "execution": {
     "iopub.execute_input": "2023-11-08T19:41:14.176487Z",
     "iopub.status.busy": "2023-11-08T19:41:14.175935Z",
     "iopub.status.idle": "2023-11-08T19:41:14.187665Z",
     "shell.execute_reply": "2023-11-08T19:41:14.186122Z"
    },
    "papermill": {
     "duration": 0.030313,
     "end_time": "2023-11-08T19:41:14.191749",
     "exception": false,
     "start_time": "2023-11-08T19:41:14.161436",
     "status": "completed"
    },
    "tags": []
   },
   "outputs": [
    {
     "data": {
      "application/javascript": [
       "parent.postMessage({\"jupyterEvent\": \"custom.exercise_interaction\", \"data\": {\"outcomeType\": 4, \"interactionType\": 1, \"questionType\": 1, \"questionId\": \"4_CandySplitting\", \"learnToolsVersion\": \"0.3.4\", \"valueTowardsCompletion\": 0.0, \"failureMessage\": \"\", \"exceptionClass\": \"\", \"trace\": \"\"}}, \"*\")"
      ],
      "text/plain": [
       "<IPython.core.display.Javascript object>"
      ]
     },
     "metadata": {},
     "output_type": "display_data"
    },
    {
     "data": {
      "text/markdown": [
       "<span style=\"color:#ccaa33\">Check:</span> When you've updated the starter code, `check()` will tell you whether your code is correct. You need to update the code that creates variable `to_smash`"
      ],
      "text/plain": [
       "Check: When you've updated the starter code, `check()` will tell you whether your code is correct. You need to update the code that creates variable `to_smash`"
      ]
     },
     "metadata": {},
     "output_type": "display_data"
    }
   ],
   "source": [
    "# Variables representing the number of candies collected by alice, bob, and carol\n",
    "alice_candies = 121\n",
    "bob_candies = 77\n",
    "carol_candies = 109\n",
    "\n",
    "# Your code goes here! Replace the right-hand side of this assignment with an expression\n",
    "# involving alice_candies, bob_candies, and carol_candies\n",
    "to_smash = -1\n",
    "\n",
    "# Check your answer\n",
    "q4.check()"
   ]
  },
  {
   "cell_type": "code",
   "execution_count": 18,
   "id": "55c02aa1",
   "metadata": {
    "execution": {
     "iopub.execute_input": "2023-11-08T19:41:14.222805Z",
     "iopub.status.busy": "2023-11-08T19:41:14.222389Z",
     "iopub.status.idle": "2023-11-08T19:41:14.227205Z",
     "shell.execute_reply": "2023-11-08T19:41:14.226075Z"
    },
    "papermill": {
     "duration": 0.023273,
     "end_time": "2023-11-08T19:41:14.229777",
     "exception": false,
     "start_time": "2023-11-08T19:41:14.206504",
     "status": "completed"
    },
    "tags": []
   },
   "outputs": [],
   "source": [
    "#q4.hint()\n",
    "#q4.solution()"
   ]
  },
  {
   "cell_type": "markdown",
   "id": "eb1e37c5",
   "metadata": {
    "papermill": {
     "duration": 0.012515,
     "end_time": "2023-11-08T19:41:14.255271",
     "exception": false,
     "start_time": "2023-11-08T19:41:14.242756",
     "status": "completed"
    },
    "tags": []
   },
   "source": [
    "# Keep Going\n",
    "\n",
    "Next up, you'll **[learn to write new functions and understand functions others write](https://www.kaggle.com/colinmorris/functions-and-getting-help)**. This will make you at least 10 times more productive as a Python programmer. "
   ]
  },
  {
   "cell_type": "markdown",
   "id": "af945572",
   "metadata": {
    "papermill": {
     "duration": 0.013223,
     "end_time": "2023-11-08T19:41:14.281922",
     "exception": false,
     "start_time": "2023-11-08T19:41:14.268699",
     "status": "completed"
    },
    "tags": []
   },
   "source": [
    "---\n",
    "\n",
    "\n",
    "\n",
    "\n",
    "*Have questions or comments? Visit the [course discussion forum](https://www.kaggle.com/learn/python/discussion) to chat with other learners.*"
   ]
  }
 ],
 "metadata": {
  "kernelspec": {
   "display_name": "Python 3",
   "language": "python",
   "name": "python3"
  },
  "language_info": {
   "codemirror_mode": {
    "name": "ipython",
    "version": 3
   },
   "file_extension": ".py",
   "mimetype": "text/x-python",
   "name": "python",
   "nbconvert_exporter": "python",
   "pygments_lexer": "ipython3",
   "version": "3.10.12"
  },
  "papermill": {
   "default_parameters": {},
   "duration": 6.192468,
   "end_time": "2023-11-08T19:41:14.818278",
   "environment_variables": {},
   "exception": null,
   "input_path": "__notebook__.ipynb",
   "output_path": "__notebook__.ipynb",
   "parameters": {},
   "start_time": "2023-11-08T19:41:08.625810",
   "version": "2.4.0"
  }
 },
 "nbformat": 4,
 "nbformat_minor": 5
}
